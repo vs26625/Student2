{
 "cells": [
  {
   "cell_type": "markdown",
   "metadata": {},
   "source": [
    "---\n",
    "toc: true\n",
    "comments: false\n",
    "layout: post\n",
    "title: Project Documentation - Deliveries Reflection\n",
    "description: Documentation on what I add/contributed, what we scrapped, and what we struggled\n",
    "type: tangibles\n",
    "courses: { compsci: {week: 11} }\n",
    "---"
   ]
  },
  {
   "cell_type": "markdown",
   "metadata": {},
   "source": [
    "## Reflective Summary\n",
    "While I dont have individual summaries for each week after week 6, this is a summary for week 7 to now. I am so grateful for all the friends I made in this class and how well the teachers helped us (including TAs). When I first walked into this classroom, I knew nothing, and I mean NOTHING about code. All I knew was that it exsited and that people type some words and boom, something happens. Over week 7-12, I have learned how to code a literal GAME in a little over a month. I have learned about collision, sprite sheets, frame rates, and more. These weeks has taught me how to code for a homepage, and elements together, and how to make a game! I have been using my old sprite sheet of a husky to help with this game since just like my husky, we have different frame numbers for each sprite and the code for that was used in our original game. Hours and millions of code lines have been spent and sent through ChatGPT to understand how to loop backgrounds, add collsion, create a gravity boolen, and so much more. We also used the ideas from our very old snake game to create a [homepage](http://127.0.0.1:4200/Student2//2023/10/25/mainPage.html) for our game. I am so happy that we made it to the end and that we at least made something playble using knowledge from our previous learnings and the tech talks provided."
   ]
  }
 ],
 "metadata": {
  "language_info": {
   "name": "python"
  }
 },
 "nbformat": 4,
 "nbformat_minor": 2
}
