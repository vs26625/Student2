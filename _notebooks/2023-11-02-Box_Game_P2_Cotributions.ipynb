{
 "cells": [
  {
   "cell_type": "markdown",
   "metadata": {},
   "source": [
    "---\n",
    "toc: true\n",
    "comments: false\n",
    "layout: post\n",
    "title: Project Documentation - Deliveries Contributions\n",
    "description: Documentation on what I add/contributed, what we scrapped, and what we struggled\n",
    "type: tangibles\n",
    "courses: { compsci: {week: 11} }\n",
    "---"
   ]
  },
  {
   "cell_type": "markdown",
   "metadata": {},
   "source": [
    "## Scrapped Contributions\n",
    "Our original idea was a game with three modes, multiple sprites, a moving platform, a looping background, and so much more. The I feel the main problem was is we over planned what we wanted to do in little time, spent to much time on sprites, and we dont have enough coding experience to finish everying. ChatGPT wasn't a help either since it wasn't always giving the correct code. For this original game, I contributed to the [looping background](http://127.0.0.1:4200/Student2//2023/10/10/Background.html), the collision to the platform (which I, unfortunatley can't find anymore), the overall orginization (md -> js/html -> index.html), sprite problems my teammates needed help with, and overall just fixing any errors our team had. For background, I first erased all the very visible water marks and got the background to loop countiously.After background, I was generally just helping my team whether it was with sprites, our platform (which was like our lucky block) or just testing everything together. Then came collision. We suffered a lot with collision in our original game and that was my main focus. I had finally got a good collision near the start to the end of this game. However, since I knew how to work with collision, I was able to use my new knowledge for the new game."
   ]
  },
  {
   "cell_type": "markdown",
   "metadata": {},
   "source": [
    "## Kept Contributions\n",
    "Our new game we had been contemplating for a while since we had so many difficulties with our original game and we still weren't done on time. On the day of rehersal for night of the mueseum, we decided to create a new game from scratch using the mario game as a template. I was, unfortunatly, sick this day but it came to my advantage. When we were working in class to create this new game, the bell had rung so I was in charge of the [rough draft of our game](http://127.0.0.1:4200/Student2//2023/11/02/Box_Game_Draft.html). It was pretty good seeing I had worked on it in only a few hours with little to no help (I could only facetime when they had CSSE or OH). I am proud of the collision, sizing, and work I had put into it seeing how spotantious our decision was and how well I was able to help execute it."
   ]
  }
 ],
 "metadata": {
  "language_info": {
   "name": "python"
  }
 },
 "nbformat": 4,
 "nbformat_minor": 2
}
